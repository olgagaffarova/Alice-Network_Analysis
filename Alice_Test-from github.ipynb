{
 "cells": [
  {
   "cell_type": "markdown",
   "id": "4c7de9bf-cf00-4c5d-b023-c35fc63bc70d",
   "metadata": {},
   "source": [
    "fefwef"
   ]
  },
  {
   "cell_type": "code",
   "execution_count": null,
   "id": "6fb35aa3-bba9-488e-8bc4-701a394397da",
   "metadata": {},
   "outputs": [],
   "source": []
  }
 ],
 "metadata": {
  "kernelspec": {
   "display_name": "Python [conda env:base] *",
   "language": "python",
   "name": "conda-base-py"
  },
  "language_info": {
   "codemirror_mode": {
    "name": "ipython",
    "version": 3
   },
   "file_extension": ".py",
   "mimetype": "text/x-python",
   "name": "python",
   "nbconvert_exporter": "python",
   "pygments_lexer": "ipython3",
   "version": "3.13.5"
  }
 },
 "nbformat": 4,
 "nbformat_minor": 5
}
